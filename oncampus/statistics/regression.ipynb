{
 "cells": [
  {
   "cell_type": "code",
   "execution_count": 2,
   "metadata": {},
   "outputs": [],
   "source": [
    "import pandas as pd\n",
    "import numpy as np\n",
    "import sklearn as skl\n",
    "import seaborn as sns"
   ]
  },
  {
   "cell_type": "code",
   "execution_count": null,
   "metadata": {},
   "outputs": [],
   "source": [
    "df = pd.read_excel('apartment_deals_price.xlsx', sheet_name='selected_data')"
   ]
  },
  {
   "cell_type": "code",
   "execution_count": null,
   "metadata": {},
   "outputs": [],
   "source": [
    "names=['city_1', 'city_2', 'city_3', 'address', 'size', 'floor', 'built_year', 'price']\n",
    "df = df[names]"
   ]
  },
  {
   "cell_type": "code",
   "execution_count": null,
   "metadata": {},
   "outputs": [],
   "source": [
    "df['new_address'] = df['city_2'] + \" \" + df['address']"
   ]
  },
  {
   "cell_type": "code",
   "execution_count": null,
   "metadata": {},
   "outputs": [],
   "source": [
    "from geopy import Nominatim\n",
    "from geopy import distance\n",
    "\n",
    "import requests\n",
    "from urllib.parse import urlparse\n",
    "\n",
    "dist_dict = dict()\n",
    "lati_dict = dict()\n",
    "long_dict = dict()\n",
    "\n",
    "no_addr = []\n",
    "\n",
    "locator = Nominatim(user_agent=\"myGeocoder\")\n",
    "city_hall_coor = (locator.geocode(\"세종대로 110\").latitude, locator.geocode(\"세종대로 110\").longitude)\n",
    "\n",
    "for idx, addr in enumerate(df['new_address'].unique()):\n",
    "\ttry:\n",
    "\t\turl = 'https://dapi.kakao.com/v2/local/search/address.json?&query=' + addr\n",
    "\t\tresult = requests.get(urlparse(url).geturl(), headers={'Authorization': 'KakaoAK b835f8f34eed2ee673250126a3f100f4'}).json()\n",
    "\t\tmatch_first = result['documents'][0]['address']\n",
    "\n",
    "\t\t# location = locator.geocode(addr)\n",
    "\t\t# lati[addr] = location.latitude\n",
    "\t\t# long[addr] = location.longitude\n",
    "\t\tlati_dict[addr] = float(match_first['y'])\n",
    "\t\tlong_dict[addr] = float(match_first['x'])\n",
    "\t\tdist_dict[addr] = distance.distance(city_hall_coor, (lati_dict[addr], long_dict[addr])).km\n",
    "\n",
    "\t\tprint('pct: {}%, addr: {} => (lat: {}, long: {}, dist: {})'.format((idx+1)/5794*100, addr, lati_dict[addr], long_dict[addr], dist_dict[addr]))\n",
    "\texcept:\n",
    "\t\tprint(addr, 'could not find its coordinates')\n",
    "\t\tno_addr.append(addr)"
   ]
  },
  {
   "cell_type": "code",
   "execution_count": null,
   "metadata": {},
   "outputs": [],
   "source": [
    "new_addr = {\n",
    "\t'강남구 영동대로128길 15':'37.5199625,127.0573796',\n",
    "\t'강동구 천중로 264':'37.5396021,127.1472591',\n",
    "\t'강동구 진황도로 18':'37.5393977,127.1267621',\n",
    "\t'강동구 진황도로 12':'37.5386759,127.1261437',\n",
    "\t'강서구 화곡로21길 71-1':'37.5403939,126.8330997',\n",
    "\t'강서구 곰달래로18길 33-1':'37.5287512,126.8400154',\n",
    "\t'관악구  27':'37.4842408,126.9354367',\n",
    "\t'관악구 구암길 95':'37.4915053,126.9445855',\n",
    "\t'광진구 뚝섬로 45':'37.5336664,127.0755005',\n",
    "\t'구로구 구로중앙로18길 11-1':'37.4950835,126.8878291',\n",
    "\t'금천구 시흥대로 291-1':'37.4611632,126.8927868',\n",
    "\t'동대문 한천로24길 74-11':'37.5681599,127.0661988',\n",
    "\t'동작구 사당로23길 4':'37.486995,126.9678221',\n",
    "\t'동작구  27':'37.485685,126.9606768',\n",
    "\t'마포구 효창원로93길 18':'37.5484817,126.9600567',\n",
    "\t'서초구 강남대로39길 15-1':'37.4858948,127.0313779',\n",
    "\t'서초구 나루터로4길 49':'37.5105427,127.0118349',\n",
    "\t'서초구 나루터로4길 28':'37.5115117,127.0101548',\n",
    "\t'서초구 잠원로4길 34-11':'37.5117162,127.0089611',\n",
    "\t'서초구 신반포로33길 30':'37.5112721,127.0082226',\n",
    "\t'서초구 나루터로4길 39':'37.5125168,127.011931',\n",
    "\t'서초구 신반포로 267':'37.5091089,127.0114771',\n",
    "\t'성북구  37':'37.5840776,127.0187608',\n",
    "\t'송파구 올림픽로 399':'37.5183239,127.1085036',\n",
    "\t'용산구 한강대로62길 45-1':'37.5328297,126.971493',\n",
    "\t'용산구 유엔빌리지길 80-1':'37.5322288,127.0091033',\n",
    "\t'은평구 서오릉로2길 12-1':'37.6021139,126.9256897',\n",
    "\t'은평구 통일로65길 1-1':'37.6090074,126.9284392',\n",
    "\t'은평구 서오릉로 80-1':'37.6074525,126.919948',\n",
    "\t'은평구 통일로65길 3-1':'37.608937,126.9283202',\n",
    "\t'은평구 연서로28길 12-1':'37.6172734,126.9196284',\n",
    "\t'은평구 연서로28길 8-1':'37.6177852,126.918537',\n",
    "\t'은평구 서오릉로 119-1':'37.6099049,126.9166778',\n",
    "\t'은평구 서오릉로 107-1':'37.6092379,126.9175358',\n",
    "\t'은평구 은평로 116-1':'37.5999023,126.9185145',\n",
    "\t'종로구 평창문화로 171':'37.6109493,126.9764674',\n",
    "\t'종로구 세검정로 384-13':'37.6075659,126.9711736',\n",
    "\t'중구 서소문로 89-1':'37.5625543,126.9686235',\n",
    "\t'중랑구 봉화산로1길 16':'37.6023589,127.0731882',\n",
    "}\n",
    "\n",
    "for addr in new_addr.keys():\n",
    "\tlat, long = new_addr[addr].split(',')\n",
    "\tlati_dict[addr] = float(lat)\n",
    "\tlong_dict[addr] = float(long)\n",
    "\tprint(lati_dict[addr], long_dict[addr])"
   ]
  },
  {
   "cell_type": "code",
   "execution_count": null,
   "metadata": {},
   "outputs": [],
   "source": [
    "long_df = pd.DataFrame.from_dict(long_dict, 'index', columns=['longitude'])\n",
    "lati_df = pd.DataFrame.from_dict(lati_dict, 'index', columns=['latitude'])\n",
    "dist_df = pd.DataFrame.from_dict(dist_dict, 'index', columns=['distance'])\n",
    "\n",
    "lat_lon_dist_df = df.join(lati_df, on=\"new_address\").join(long_df, on=\"new_address\").join(dist_df, on=\"new_address\")\n",
    "lat_lon_dist_df.to_csv('result_lat_lon_dist.csv', index=False)"
   ]
  },
  {
   "cell_type": "code",
   "execution_count": null,
   "metadata": {},
   "outputs": [],
   "source": [
    "dist_df = pd.read_csv('result_lat_lon_dist.csv')\n",
    "dist_df.groupby('city_2').mean()"
   ]
  },
  {
   "cell_type": "code",
   "execution_count": 2,
   "metadata": {},
   "outputs": [
    {
     "data": {
      "text/plain": [
       "(37.56635025, 126.97830900276097)"
      ]
     },
     "execution_count": 2,
     "metadata": {},
     "output_type": "execute_result"
    }
   ],
   "source": [
    "from geopy import Nominatim\n",
    "\n",
    "locator = Nominatim(user_agent=\"myGeocoder\")\n",
    "city_hall_coor = (locator.geocode(\"세종대로 110\").latitude, locator.geocode(\"세종대로 110\").longitude)\n",
    "city_hall_coor"
   ]
  },
  {
   "cell_type": "markdown",
   "metadata": {},
   "source": [
    "# Graph #"
   ]
  },
  {
   "cell_type": "code",
   "execution_count": null,
   "metadata": {},
   "outputs": [],
   "source": [
    "import matplotlib.pyplot as plt\n",
    "\n",
    "# sns.regplot(x='size', y='price', data=dist_df)\n",
    "sns.regplot(x='distance', y='price', data=dist_df)"
   ]
  },
  {
   "cell_type": "markdown",
   "metadata": {},
   "source": [
    "# Regression #"
   ]
  },
  {
   "cell_type": "code",
   "execution_count": null,
   "metadata": {},
   "outputs": [],
   "source": [
    "from sklearn.model_selection import train_test_split\n",
    "from sklearn.linear_model import LinearRegression\n",
    "from sklearn.metrics import mean_squared_error , r2_score\n",
    "\n",
    "y_target = dist_df['price']\n",
    "# X_data = dist_df.drop(['price', 'area', 'building_number', 'apartment_name', 'address'], axis=1, inplace=False)\n",
    "X_data = dist_df[['size']]\n",
    "\n",
    "X_train , X_test , y_train , y_test = train_test_split(X_data, y_target, test_size=0.3, random_state=156)\n",
    "\n",
    "lr = LinearRegression()\n",
    "lr.fit(X_train, y_train)\n",
    "y_preds = lr.predict(X_test)\n",
    "mse = mean_squared_error(y_test, y_preds)\n",
    "rmse = np.sqrt(mse)\n",
    "\n",
    "print('MSE : {0:.3f} , RMSE : {1:.3F}'.format(mse , rmse))\n",
    "print('Variance score : {0:.3f}'.format(r2_score(y_test, y_preds)))"
   ]
  },
  {
   "cell_type": "code",
   "execution_count": null,
   "metadata": {},
   "outputs": [],
   "source": [
    "coeff = pd.Series(data=np.round(lr.coef_, 2), index=X_data.columns)\n",
    "coeff.sort_values(ascending=False)"
   ]
  },
  {
   "cell_type": "code",
   "execution_count": null,
   "metadata": {},
   "outputs": [],
   "source": [
    "import math\n",
    "\n",
    "coeff = pd.Series(data=np.round(lr.coef_, 2), index=X_data.columns)\n",
    "coeff.sort_values(ascending=False)\n",
    "\n",
    "coeff.sort_values(ascending=False, inplace=True)\n",
    "res = 'PRICE = '\n",
    "for idx, item in enumerate(coeff.items()):\n",
    "  name, value = item\n",
    "  if idx == 0:\n",
    "    op = ''\n",
    "  else:\n",
    "    if value > 0:\n",
    "      op = ' + '\n",
    "    else:\n",
    "      op = ' - '\n",
    "  res += op + '*'.join([str(math.fabs(value)), name.upper()])\n",
    "\n",
    "if lr.intercept_ > 0:\n",
    "  res += \" + \" + str(math.fabs(lr.intercept_))\n",
    "else:\n",
    "  res += \" - \" + str(math.fabs(lr.intercept_))\n",
    "\n",
    "# print()\n",
    "\n",
    "print('[Linear regression]')\n",
    "print(res)\n",
    "\n",
    "print()\n",
    "\n",
    "print('[Sorted covariance of all variables in terms of price]')\n",
    "dist_df.cov()['price'][dist_df.cov()['price'].abs().sort_values(ascending=False).keys()]"
   ]
  }
 ],
 "metadata": {
  "interpreter": {
   "hash": "aee8b7b246df8f9039afb4144a1f6fd8d2ca17a180786b69acc140d282b71a49"
  },
  "kernelspec": {
   "display_name": "Python 3.9.5 64-bit",
   "language": "python",
   "name": "python3"
  },
  "language_info": {
   "codemirror_mode": {
    "name": "ipython",
    "version": 3
   },
   "file_extension": ".py",
   "mimetype": "text/x-python",
   "name": "python",
   "nbconvert_exporter": "python",
   "pygments_lexer": "ipython3",
   "version": "3.9.6"
  },
  "orig_nbformat": 4
 },
 "nbformat": 4,
 "nbformat_minor": 2
}
